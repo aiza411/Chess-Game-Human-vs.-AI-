{
 "cells": [
  {
   "attachments": {},
   "cell_type": "markdown",
   "metadata": {},
   "source": [
    "## ASSIGNMENT : 03"
   ]
  },
  {
   "attachments": {},
   "cell_type": "markdown",
   "metadata": {},
   "source": [
    "Name : AIZA FAROOQ"
   ]
  },
  {
   "attachments": {},
   "cell_type": "markdown",
   "metadata": {},
   "source": [
    "Roll no : 20i-0688"
   ]
  },
  {
   "cell_type": "code",
   "execution_count": 115,
   "metadata": {},
   "outputs": [],
   "source": [
    "#Defining the board\n",
    "chessboard = [['r', 'n', 'b', 'q', 'k', 'b', 'n', 'r'],\n",
    "    ['p', 'p', 'p', 'p', 'p', 'p', 'p', 'p'],\n",
    "    ['.', '.', '.', '.', '.', '.', '.', '.'],\n",
    "    ['.', '.', '.', '.', '.', '.', '.', '.'],\n",
    "    ['.', '.', '.', '.', '.', '.', '.', '.'],\n",
    "    ['.', '.', '.', '.', '.', '.', '.', '.'],\n",
    "    ['P', 'P', 'P', 'P', 'P', 'P', 'P', 'P'],\n",
    "    ['R', 'N', 'B', 'Q', 'K', 'B', 'N', 'R']\n",
    "]"
   ]
  },
  {
   "cell_type": "code",
   "execution_count": 116,
   "metadata": {},
   "outputs": [],
   "source": [
    "# Function to print the board\n",
    "def print_board(board):\n",
    "    print('-----------------------------')\n",
    "    for i in range(len(board)):\n",
    "        row = board[i]\n",
    "        print(\" | \".join(row))\n",
    "    print('-----------------------------')"
   ]
  },
  {
   "cell_type": "code",
   "execution_count": 117,
   "metadata": {},
   "outputs": [
    {
     "name": "stdout",
     "output_type": "stream",
     "text": [
      "-----------------------------\n",
      "r | n | b | q | k | b | n | r\n",
      "p | p | p | p | p | p | p | p\n",
      ". | . | . | . | . | . | . | .\n",
      ". | . | . | . | . | . | . | .\n",
      ". | . | . | . | . | . | . | .\n",
      ". | . | . | . | . | . | . | .\n",
      "P | P | P | P | P | P | P | P\n",
      "R | N | B | Q | K | B | N | R\n",
      "-----------------------------\n"
     ]
    }
   ],
   "source": [
    "print_board(chessboard)"
   ]
  },
  {
   "cell_type": "code",
   "execution_count": 118,
   "metadata": {},
   "outputs": [],
   "source": [
    "# Defining the pieces\n",
    "PAWN = 'P'\n",
    "KNIGHT = 'N'\n",
    "BISHOP = 'B'\n",
    "ROOK = 'R'\n",
    "QUEEN = 'Q'\n",
    "KING = 'K'"
   ]
  },
  {
   "cell_type": "code",
   "execution_count": 119,
   "metadata": {},
   "outputs": [],
   "source": [
    "# Defining the values of each piece\n",
    "PIECE_VALUES = {\n",
    "    PAWN: 10,\n",
    "    KNIGHT: 13,\n",
    "    BISHOP: 13,\n",
    "    ROOK: 15,\n",
    "    QUEEN: 19,\n",
    "    KING: float('inf')\n",
    "}"
   ]
  },
  {
   "cell_type": "code",
   "execution_count": 120,
   "metadata": {},
   "outputs": [],
   "source": [
    "# Function to get pawn moves\n",
    "def get_pawn_moves(board, row, col, color):\n",
    "    \n",
    "    if color == 'W':\n",
    "        oponent_color='b'\n",
    "    else:\n",
    "        oponent_color='W'\n",
    "\n",
    "    #initializing the list to store all moves\n",
    "    moves = []\n",
    "    direction = 1 if color == 'b' else -1\n",
    "    if 0 <= row + direction < 8:\n",
    "        if board[row + direction][col] == '.':\n",
    "            moves.append((row, col, row + direction, col))\n",
    "\n",
    "            #if at starting position it can move 2 squares\n",
    "            if (row == 1 and color == 'b') or (row == 6 and color == 'W'):\n",
    "                if board[row + 2*direction][col] == '.':\n",
    "                    moves.append((row, col, row + 2*direction, col))\n",
    "\n",
    "        #checks if it can capture diagonally\n",
    "        if 0 <= col - 1 < 8 and 0 <= row + direction < 8 and board[row + direction][col - 1] != '.' and board[row + direction][col - 1].isupper() != (color == oponent_color):\n",
    "            moves.append((row, col, row + direction, col - 1))\n",
    "        if 0 <= col + 1 < 8 and 0 <= row + direction < 8 and board[row + direction][col + 1] != '.' and board[row + direction][col + 1].isupper() != (color == oponent_color):\n",
    "            moves.append((row, col, row + direction, col + 1))\n",
    "    return moves\n"
   ]
  },
  {
   "cell_type": "code",
   "execution_count": 121,
   "metadata": {},
   "outputs": [
    {
     "data": {
      "text/plain": [
       "[(5, 7, 6, 6)]"
      ]
     },
     "execution_count": 121,
     "metadata": {},
     "output_type": "execute_result"
    }
   ],
   "source": [
    "get_pawn_moves(chessboard, 5, 7,'b')"
   ]
  },
  {
   "cell_type": "code",
   "execution_count": 122,
   "metadata": {},
   "outputs": [],
   "source": [
    "# Function to get knight moves\n",
    "def get_knight_moves(board, row, col, color):\n",
    "\n",
    "    #initializing the list to store all moves\n",
    "    moves = []\n",
    "\n",
    "    #possible combinations of knight moves\n",
    "    offsets = [(-2, -1), (-2, 1), (-1, -2), (-1, 2), (1, -2), (1, 2), (2, -1), (2, 1)]\n",
    "    for dr, dc in offsets:\n",
    "        r, c = row + dr, col + dc\n",
    "        if 0 <= r < 8 and 0 <= c < 8 and (board[r][c] == '.' or board[r][c].islower() != color.islower()):\n",
    "            moves.append((row,col,r, c))\n",
    "    return moves"
   ]
  },
  {
   "cell_type": "code",
   "execution_count": 123,
   "metadata": {},
   "outputs": [
    {
     "data": {
      "text/plain": [
       "[(0, 1, 2, 0), (0, 1, 2, 2)]"
      ]
     },
     "execution_count": 123,
     "metadata": {},
     "output_type": "execute_result"
    }
   ],
   "source": [
    "get_knight_moves(chessboard, 0, 1, 'b')\n"
   ]
  },
  {
   "cell_type": "code",
   "execution_count": 124,
   "metadata": {},
   "outputs": [
    {
     "data": {
      "text/plain": [
       "[(0, 1, 1, 3), (0, 1, 2, 0), (0, 1, 2, 2)]"
      ]
     },
     "execution_count": 124,
     "metadata": {},
     "output_type": "execute_result"
    }
   ],
   "source": [
    "get_knight_moves(chessboard, 0, 1, 'W')"
   ]
  },
  {
   "cell_type": "code",
   "execution_count": 125,
   "metadata": {},
   "outputs": [],
   "source": [
    "# Function to get bishop moves\n",
    "def get_bishop_moves(board, row, col, color):\n",
    "\n",
    "    #initializing the list to store all moves\n",
    "    moves = []\n",
    "\n",
    "    #looping through all possible combinations of rook moves\n",
    "    for dr, dc in [(-1, -1), (-1, 1), (1, -1), (1, 1)]:\n",
    "        r, c = row + dr, col + dc\n",
    "        while 0 <= r < 8 and 0 <= c < 8:\n",
    "            if board[r][c] == '.':\n",
    "                moves.append((row,col,r, c))\n",
    "            elif board[r][c].islower() == color.islower():\n",
    "                break\n",
    "            else:\n",
    "                moves.append((row,col,r, c))\n",
    "                break\n",
    "            r += dr\n",
    "            c += dc\n",
    "    return moves"
   ]
  },
  {
   "cell_type": "code",
   "execution_count": 126,
   "metadata": {},
   "outputs": [
    {
     "data": {
      "text/plain": [
       "[(0, 2, 1, 1), (0, 2, 1, 3)]"
      ]
     },
     "execution_count": 126,
     "metadata": {},
     "output_type": "execute_result"
    }
   ],
   "source": [
    "get_bishop_moves(chessboard, 0, 2, 'W')"
   ]
  },
  {
   "cell_type": "code",
   "execution_count": 127,
   "metadata": {},
   "outputs": [],
   "source": [
    "# Function to get rook moves\n",
    "def get_rook_moves(board, row, col, color):\n",
    "\n",
    "    #initializing the list to store all moves\n",
    "    moves = []\n",
    "\n",
    "    #looping through all possible combinations of rook moves\n",
    "    for dr, dc in [(-1, 0), (0, -1), (1, 0), (0, 1)]:\n",
    "        r, c = row + dr, col + dc\n",
    "        while 0 <= r < 8 and 0 <= c < 8:\n",
    "            if board[r][c] == '.':\n",
    "                moves.append((row,col,r, c))\n",
    "            elif board[r][c].islower() == color.islower():\n",
    "                break\n",
    "            else:\n",
    "                moves.append((row,col,r, c))\n",
    "                break\n",
    "            r += dr\n",
    "            c += dc\n",
    "    return moves"
   ]
  },
  {
   "cell_type": "code",
   "execution_count": 128,
   "metadata": {},
   "outputs": [
    {
     "data": {
      "text/plain": [
       "[]"
      ]
     },
     "execution_count": 128,
     "metadata": {},
     "output_type": "execute_result"
    }
   ],
   "source": [
    "get_rook_moves(chessboard, 0, 0, 'b')"
   ]
  },
  {
   "cell_type": "code",
   "execution_count": 129,
   "metadata": {},
   "outputs": [],
   "source": [
    "# Function to get queen moves\n",
    "def get_queen_moves(board, row, col, color):\n",
    "    moves = get_bishop_moves(board, row, col, color) + get_rook_moves(board, row, col, color)\n",
    "    return moves"
   ]
  },
  {
   "cell_type": "code",
   "execution_count": 130,
   "metadata": {},
   "outputs": [
    {
     "data": {
      "text/plain": [
       "[(0, 3, 1, 2), (0, 3, 1, 4), (0, 3, 0, 2), (0, 3, 1, 3), (0, 3, 0, 4)]"
      ]
     },
     "execution_count": 130,
     "metadata": {},
     "output_type": "execute_result"
    }
   ],
   "source": [
    "get_queen_moves(chessboard, 0, 3, 'W')"
   ]
  },
  {
   "cell_type": "code",
   "execution_count": 131,
   "metadata": {},
   "outputs": [],
   "source": [
    "def is_square_attacked(board, row, col, color):\n",
    "\n",
    "    # Check if square is attacked by pawn\n",
    "    if color == 'W':\n",
    "        if row - 1 >= 0 and col - 1 >= 0 and board[row - 1][col - 1] == 'p':\n",
    "            return True\n",
    "        if row - 1 >= 0 and col + 1 < 8 and board[row - 1][col + 1] == 'p':\n",
    "            return True\n",
    "    else:\n",
    "        if row + 1 < 8 and col - 1 >= 0 and board[row + 1][col - 1] == 'P':\n",
    "            return True\n",
    "        if row + 1 < 8 and col + 1 < 8 and board[row + 1][col + 1] == 'P':\n",
    "            return True\n",
    "\n",
    "    # Check if square is attacked by knight\n",
    "    knight_moves = [(2,1), (1,2), (-1,2), (-2,1), (-2,-1), (-1,-2), (1,-2), (2,-1)]\n",
    "    for move in knight_moves:\n",
    "        r = row + move[0]\n",
    "        c = col + move[1]\n",
    "        if 0 <= r < 8 and 0 <= c < 8 and board[r][c] == ('n' if color == 'W' else 'N'):\n",
    "            return True\n",
    "\n",
    "    # Check if square is attacked by bishop or queen\n",
    "    for direction in ((1,1), (1,-1), (-1,1), (-1,-1)):\n",
    "        r = row + direction[0]\n",
    "        c = col + direction[1]\n",
    "        while 0 <= r < 8 and 0 <= c < 8:\n",
    "            piece = board[r][c]\n",
    "            if piece != '.':\n",
    "                if piece in ('b', 'q') and piece.islower() != (color == 'W'):\n",
    "                    return True\n",
    "                break\n",
    "            r += direction[0]\n",
    "            c += direction[1]\n",
    "\n",
    "    # Check if square is attacked by rook or queen\n",
    "    for direction in ((1,0), (0,1), (-1,0), (0,-1)):\n",
    "        r = row + direction[0]\n",
    "        c = col + direction[1]\n",
    "        while 0 <= r < 8 and 0 <= c < 8:\n",
    "            piece = board[r][c]\n",
    "            if piece != '.':\n",
    "                if piece in ('r', 'q') and piece.islower() != (color == 'W'):\n",
    "                    return True\n",
    "                break\n",
    "            r += direction[0]\n",
    "            c += direction[1]\n",
    "\n",
    "    return False\n"
   ]
  },
  {
   "cell_type": "code",
   "execution_count": 132,
   "metadata": {},
   "outputs": [],
   "source": [
    "# Function to get king moves\n",
    "def get_king_moves(board, row, col, color):\n",
    "\n",
    "    #initializing the list to store all moves\n",
    "    moves = []\n",
    "\n",
    "    #possible combinations of king moves\n",
    "    directions = [(-1, -1), (-1, 0), (-1, 1), (0, -1), (0, 1), (1, -1), (1, 0), (1, 1)]\n",
    "    \n",
    "    for d_row, d_col in directions:\n",
    "        new_row, new_col = row + d_row, col + d_col\n",
    "        if 0 <= new_row < 8 and 0 <= new_col < 8:\n",
    "            if board[new_row][new_col] == '.' or board[new_row][new_col].isupper() != (color == 'b'):\n",
    "                \n",
    "                # Check if king can castle to the left\n",
    "                if board[row][col] == 'K' and col == 4 and row == (7 if color == 'W' else 0) and d_col == -2:\n",
    "                    if all([board[row][col-1] == '.', board[row][col-2] == '.', board[row][col-3] == '.', board[row][col-4].upper() == 'R']):\n",
    "                        if not is_square_attacked(board, row, col-1, 'b' if color == 'W' else 'W') and not is_square_attacked(board, row, col-2, 'b' if color == 'W' else 'W') and not is_square_attacked(board, row, col-3, 'b' if color == 'W' else 'W'):\n",
    "                            moves.append((row, col, row, col-2))\n",
    "                \n",
    "                # Check if king can castle to the right\n",
    "                elif board[row][col] == 'K' and col == 4 and row == (7 if color == 'W' else 0) and d_col == 2:\n",
    "                    if all([board[row][col+1] == '.', board[row][col+2] == '.', board[row][col+3].upper() == 'R']):\n",
    "                        if not is_square_attacked(board, row, col+1, 'b' if color == 'W' else 'W') and not is_square_attacked(board, row, col+2, 'b' if color == 'W' else 'W'):\n",
    "                            moves.append((row, col, row, col+2))\n",
    "\n",
    "                else:\n",
    "                    moves.append((row, col, new_row, new_col))\n",
    "    \n",
    "    return moves\n"
   ]
  },
  {
   "cell_type": "code",
   "execution_count": 133,
   "metadata": {},
   "outputs": [
    {
     "data": {
      "text/plain": [
       "[]"
      ]
     },
     "execution_count": 133,
     "metadata": {},
     "output_type": "execute_result"
    }
   ],
   "source": [
    "get_king_moves(chessboard, 0, 4, 'W')"
   ]
  },
  {
   "cell_type": "code",
   "execution_count": 134,
   "metadata": {},
   "outputs": [],
   "source": [
    "# Function to get generate all possible moves\n",
    "def generate_moves(board, color):\n",
    "\n",
    "    #initializing the list to store all moves\n",
    "    moves = []\n",
    "\n",
    "    #looping through the entire board to generate all possible moves\n",
    "    for row in range(8):\n",
    "        for col in range(8):\n",
    "            piece = board[row][col]\n",
    "            if piece == '.' or (piece.isupper() and color == 'b') or (piece.islower() and color == 'W'):\n",
    "                continue\n",
    "            if piece.upper() == PAWN:\n",
    "                moves += get_pawn_moves(board, row, col, color)\n",
    "            elif piece.upper() == KNIGHT:\n",
    "                moves += get_knight_moves(board, row, col, color)\n",
    "            elif piece.upper() == BISHOP:\n",
    "                moves += get_bishop_moves(board, row, col, color)\n",
    "            elif piece.upper() == ROOK:\n",
    "                moves += get_rook_moves(board, row, col, color)\n",
    "            elif piece.upper() == QUEEN:\n",
    "                moves += get_queen_moves(board, row, col, color)\n",
    "            elif piece.upper() == KING:\n",
    "                moves += get_king_moves(board, row, col, color)\n",
    "    return moves\n"
   ]
  },
  {
   "cell_type": "code",
   "execution_count": 135,
   "metadata": {},
   "outputs": [
    {
     "data": {
      "text/plain": [
       "[(0, 1, 2, 0),\n",
       " (0, 1, 2, 2),\n",
       " (0, 4, 0, 3),\n",
       " (0, 4, 0, 5),\n",
       " (0, 4, 1, 3),\n",
       " (0, 4, 1, 4),\n",
       " (0, 4, 1, 5),\n",
       " (0, 6, 2, 5),\n",
       " (0, 6, 2, 7),\n",
       " (1, 0, 2, 0),\n",
       " (1, 0, 3, 0),\n",
       " (1, 1, 2, 1),\n",
       " (1, 1, 3, 1),\n",
       " (1, 2, 2, 2),\n",
       " (1, 2, 3, 2),\n",
       " (1, 3, 2, 3),\n",
       " (1, 3, 3, 3),\n",
       " (1, 4, 2, 4),\n",
       " (1, 4, 3, 4),\n",
       " (1, 5, 2, 5),\n",
       " (1, 5, 3, 5),\n",
       " (1, 6, 2, 6),\n",
       " (1, 6, 3, 6),\n",
       " (1, 7, 2, 7),\n",
       " (1, 7, 3, 7)]"
      ]
     },
     "execution_count": 135,
     "metadata": {},
     "output_type": "execute_result"
    }
   ],
   "source": [
    "generate_moves(chessboard, 'b')"
   ]
  },
  {
   "cell_type": "code",
   "execution_count": 136,
   "metadata": {},
   "outputs": [],
   "source": [
    "# Function to evaluate utility\n",
    "def utility(board, color):\n",
    "\n",
    "    #initializing the score\n",
    "    score = 0\n",
    "\n",
    "    #calculating the score by looping through entire board\n",
    "    for row in range(8):\n",
    "        for col in range(8):\n",
    "            piece = board[row][col]\n",
    "            if piece == '.':\n",
    "                continue\n",
    "            \n",
    "            #getting the value of piece of chess\n",
    "            value = PIECE_VALUES[piece.upper()]\n",
    "            if piece.upper():\n",
    "                score += value\n",
    "            else:\n",
    "                score -= value\n",
    "\n",
    "    return score if color == 'W' else -score"
   ]
  },
  {
   "cell_type": "code",
   "execution_count": 137,
   "metadata": {},
   "outputs": [],
   "source": [
    "# Function to get king position\n",
    "def find_king(board, color):\n",
    "\n",
    "    #looping through the entire board\n",
    "    for row in range(len(board)):\n",
    "        for col in range(len(board[row])):\n",
    "            if board[row][col] == 'K' and color == 'W' or board[row][col] == 'k' and color == 'b':\n",
    "                return (row, col)"
   ]
  },
  {
   "cell_type": "code",
   "execution_count": 138,
   "metadata": {},
   "outputs": [
    {
     "data": {
      "text/plain": [
       "(0, 4)"
      ]
     },
     "execution_count": 138,
     "metadata": {},
     "output_type": "execute_result"
    }
   ],
   "source": [
    "find_king(chessboard, 'b')"
   ]
  },
  {
   "cell_type": "code",
   "execution_count": 139,
   "metadata": {},
   "outputs": [],
   "source": [
    "# Function to make moves\n",
    "def make_move(board, move):\n",
    "    r1, c1, r2, c2 = move\n",
    "    board[r2][c2] = board[r1][c1]\n",
    "    board[r1][c1] = '.'"
   ]
  },
  {
   "cell_type": "code",
   "execution_count": 140,
   "metadata": {},
   "outputs": [],
   "source": [
    "# Function to unmake moves\n",
    "def unmake_move(board, move, captured):\n",
    "    r1, c1, r2, c2 = move\n",
    "    board[r1][c1] = board[r2][c2]\n",
    "    board[r2][c2] = captured"
   ]
  },
  {
   "cell_type": "code",
   "execution_count": 141,
   "metadata": {},
   "outputs": [],
   "source": [
    "def is_in_check(board, color):\n",
    "\n",
    "    #finding the position of king\n",
    "    king_pos = find_king(board, color)\n",
    "    if not king_pos:\n",
    "        return False\n",
    "    \n",
    "    for row in range(len(board)):\n",
    "        for col in range(len(board[row])):\n",
    "            if board[row][col] == '.':\n",
    "                continue\n",
    "            piece_color = 'W' if board[row][col].upper() == 'W' else 'b'\n",
    "            if piece_color != color:\n",
    "                continue\n",
    "            moves = generate_moves(board, piece_color)\n",
    "            \n",
    "            #checking all the moves to find the move that captures king\n",
    "            for move in moves:\n",
    "                if len(move) >= 4 and move[2] == king_pos[0] and move[3] == king_pos[1]:\n",
    "                    return True\n",
    "    return False"
   ]
  },
  {
   "cell_type": "code",
   "execution_count": 142,
   "metadata": {},
   "outputs": [
    {
     "data": {
      "text/plain": [
       "False"
      ]
     },
     "execution_count": 142,
     "metadata": {},
     "output_type": "execute_result"
    }
   ],
   "source": [
    "is_in_check(chessboard, 'W')"
   ]
  },
  {
   "cell_type": "code",
   "execution_count": 143,
   "metadata": {},
   "outputs": [],
   "source": [
    "def is_checkmate(board, color):\n",
    "\n",
    "    #checking if the king is in check\n",
    "    if is_in_check(board, color):\n",
    "        moves = generate_moves(board, color)\n",
    "         #looping through all the moves and checking if king is still in check\n",
    "        for move in moves:\n",
    "            captured = board[move[2]][move[3]]\n",
    "            make_move(board, move)\n",
    "            if not is_in_check(board, color):\n",
    "                unmake_move(board, move, captured)\n",
    "                return False\n",
    "            unmake_move(board, move, captured)\n",
    "        return True\n",
    "    else:\n",
    "        return False\n"
   ]
  },
  {
   "cell_type": "code",
   "execution_count": 144,
   "metadata": {},
   "outputs": [
    {
     "data": {
      "text/plain": [
       "False"
      ]
     },
     "execution_count": 144,
     "metadata": {},
     "output_type": "execute_result"
    }
   ],
   "source": [
    "is_checkmate(chessboard, 'W')"
   ]
  },
  {
   "cell_type": "code",
   "execution_count": 145,
   "metadata": {},
   "outputs": [],
   "source": [
    "def is_stalemate(board,color):\n",
    "    \n",
    "    #checking if there are any possible moves\n",
    "    moves = generate_moves(board,color)\n",
    "    if not moves:\n",
    "        return True\n",
    "    else:\n",
    "        return False"
   ]
  },
  {
   "cell_type": "code",
   "execution_count": 146,
   "metadata": {},
   "outputs": [
    {
     "data": {
      "text/plain": [
       "False"
      ]
     },
     "execution_count": 146,
     "metadata": {},
     "output_type": "execute_result"
    }
   ],
   "source": [
    "is_stalemate(chessboard,'W')"
   ]
  },
  {
   "cell_type": "code",
   "execution_count": 147,
   "metadata": {},
   "outputs": [],
   "source": [
    "def is_game_over(board,color):\n",
    "    if is_checkmate(board, color):\n",
    "        if color == 'W':\n",
    "            print(\"Checkmate! White wins!\")\n",
    "        else:\n",
    "            print(\"Checkmate! Black wins!\")\n",
    "        return True\n",
    "    elif is_stalemate(board,color):\n",
    "        print(\"Stalemate!\")\n",
    "        return True\n",
    "    else:\n",
    "        return False"
   ]
  },
  {
   "cell_type": "code",
   "execution_count": 148,
   "metadata": {},
   "outputs": [
    {
     "data": {
      "text/plain": [
       "False"
      ]
     },
     "execution_count": 148,
     "metadata": {},
     "output_type": "execute_result"
    }
   ],
   "source": [
    "is_game_over(chessboard,'W')"
   ]
  },
  {
   "cell_type": "code",
   "execution_count": 149,
   "metadata": {},
   "outputs": [],
   "source": [
    "def minimax(board, depth, alpha, beta, maximizing_player, color):\n",
    "\n",
    "    #if game is over or max depth reached return the utility\n",
    "    if depth == 0 or is_game_over(board, color):\n",
    "        return utility(board, color), None\n",
    "    \n",
    "    min_eval = float('inf')\n",
    "    max_eval = float('-inf')\n",
    "    best_move = None\n",
    "    \n",
    "    all_moves = generate_moves(board, color)\n",
    "    \n",
    "    #looping through all possible moves\n",
    "    for move in all_moves:\n",
    "        board_copy = [row[:] for row in board]\n",
    "        make_move(board_copy, move)\n",
    "        \n",
    "        if maximizing_player:\n",
    "            eval = minimax(board_copy, depth - 1, alpha, beta, False, color)[0]\n",
    "            max_eval = max(max_eval, eval)\n",
    "            if max_eval == eval:\n",
    "                best_move = move\n",
    "            alpha = max(alpha, eval)\n",
    "        else:\n",
    "            eval = minimax(board_copy, depth - 1, alpha, beta, True, color)[0]\n",
    "            min_eval = min(min_eval, eval)\n",
    "            if min_eval == eval:\n",
    "                best_move = move\n",
    "            beta = min(beta, eval)\n",
    "        \n",
    "        # Unmake the move on the board copy\n",
    "        unmake_move(board_copy, move, board_copy[move[2]][move[3]])\n",
    "        \n",
    "        #prune the remaining moves\n",
    "        if beta <= alpha:\n",
    "            break\n",
    "    \n",
    "    if best_move is not None:\n",
    "        return (max_eval, best_move) if maximizing_player else (min_eval, best_move)\n",
    "    else:\n",
    "        return (0, None)\n"
   ]
  },
  {
   "cell_type": "code",
   "execution_count": 150,
   "metadata": {},
   "outputs": [],
   "source": [
    "def make_ai_move(chessboard, color):\n",
    "\n",
    "    #initializing the depth\n",
    "    depth=3\n",
    "\n",
    "    #calculating the best move using min max algo\n",
    "    _, best_move = minimax(chessboard, depth, float('-inf'), float('inf'), True,'b')\n",
    "    if best_move is not None:\n",
    "        return best_move"
   ]
  },
  {
   "cell_type": "code",
   "execution_count": 151,
   "metadata": {},
   "outputs": [],
   "source": [
    "def play_game():\n",
    "\n",
    "    #initializing the color of current player as white\n",
    "    player1 = 'W'\n",
    "    print_board(chessboard)\n",
    "\n",
    "    while True:\n",
    "\n",
    "        #white player's turn\n",
    "        print(f\"{player1}'s turn\")\n",
    "        moves = generate_moves(chessboard, player1)\n",
    "        print(\"ALL POSSIBLE MOVES FOR YOU ARE : \")\n",
    "        print(moves)\n",
    "\n",
    "        #asking for input\n",
    "        print(f\"Enter your move in the format 'r1,c1,r2,c2':\")\n",
    "        user_move = input()\n",
    "        r1, c1, r2, c2 = map(int, user_move.split(','))\n",
    "\n",
    "        #input validation\n",
    "        if (r1, c1, r2, c2) not in moves:\n",
    "            print(\"Invalid move. Please try again.\")\n",
    "            continue\n",
    "\n",
    "        \n",
    "        make_move(chessboard, (r1, c1, r2, c2))\n",
    "        print_board(chessboard)\n",
    "        \n",
    "        if is_game_over(chessboard,player1):\n",
    "            return\n",
    "\n",
    "        #black player's turn\n",
    "        player1 = 'b' if player1 == 'W' else 'W'\n",
    "\n",
    "        print(f\"{player1}'s turn\")\n",
    "        ai_move = make_ai_move(chessboard, player1)\n",
    "        print(\"AI MOVE \",ai_move)\n",
    "        \n",
    "        make_move(chessboard, ai_move)\n",
    "        print_board(chessboard)\n",
    "\n",
    "        if is_game_over(chessboard,player1):\n",
    "            return\n",
    "\n",
    "\n",
    "        # switch player\n",
    "        player1 = 'b' if player1 == 'W' else 'W'\n"
   ]
  },
  {
   "cell_type": "code",
   "execution_count": 152,
   "metadata": {},
   "outputs": [
    {
     "name": "stdout",
     "output_type": "stream",
     "text": [
      "-----------------------------\n",
      "r | n | b | q | k | b | n | r\n",
      "p | p | p | p | p | p | p | p\n",
      ". | . | . | . | . | . | . | .\n",
      ". | . | . | . | . | . | . | .\n",
      ". | . | . | . | . | . | . | .\n",
      ". | . | . | . | . | . | . | .\n",
      "P | P | P | P | P | P | P | P\n",
      "R | N | B | Q | K | B | N | R\n",
      "-----------------------------\n",
      "W's turn\n",
      "ALL POSSIBLE MOVES FOR YOU ARE : \n",
      "[(6, 0, 5, 0), (6, 0, 4, 0), (6, 1, 5, 1), (6, 1, 4, 1), (6, 2, 5, 2), (6, 2, 4, 2), (6, 3, 5, 3), (6, 3, 4, 3), (6, 4, 5, 4), (6, 4, 4, 4), (6, 5, 5, 5), (6, 5, 4, 5), (6, 6, 5, 6), (6, 6, 4, 6), (6, 7, 5, 7), (6, 7, 4, 7), (7, 1, 5, 0), (7, 1, 5, 2), (7, 4, 6, 3), (7, 4, 6, 4), (7, 4, 6, 5), (7, 4, 7, 3), (7, 4, 7, 5), (7, 6, 5, 5), (7, 6, 5, 7)]\n",
      "Enter your move in the format 'r1,c1,r2,c2':\n",
      "-----------------------------\n",
      "r | n | b | q | k | b | n | r\n",
      "p | p | p | p | p | p | p | p\n",
      ". | . | . | . | . | . | . | .\n",
      ". | . | . | . | . | . | . | .\n",
      ". | . | . | . | . | . | . | .\n",
      "P | . | . | . | . | . | . | .\n",
      ". | P | P | P | P | P | P | P\n",
      "R | N | B | Q | K | B | N | R\n",
      "-----------------------------\n",
      "b's turn\n",
      "AI MOVE  (1, 7, 3, 7)\n",
      "-----------------------------\n",
      "r | n | b | q | k | b | n | r\n",
      "p | p | p | p | p | p | p | .\n",
      ". | . | . | . | . | . | . | .\n",
      ". | . | . | . | . | . | . | p\n",
      ". | . | . | . | . | . | . | .\n",
      "P | . | . | . | . | . | . | .\n",
      ". | P | P | P | P | P | P | P\n",
      "R | N | B | Q | K | B | N | R\n",
      "-----------------------------\n",
      "W's turn\n",
      "ALL POSSIBLE MOVES FOR YOU ARE : \n",
      "[(5, 0, 4, 0), (6, 1, 5, 1), (6, 1, 4, 1), (6, 1, 5, 0), (6, 2, 5, 2), (6, 2, 4, 2), (6, 3, 5, 3), (6, 3, 4, 3), (6, 4, 5, 4), (6, 4, 4, 4), (6, 5, 5, 5), (6, 5, 4, 5), (6, 6, 5, 6), (6, 6, 4, 6), (6, 7, 5, 7), (6, 7, 4, 7), (7, 0, 6, 0), (7, 1, 5, 2), (7, 4, 6, 3), (7, 4, 6, 4), (7, 4, 6, 5), (7, 4, 7, 3), (7, 4, 7, 5), (7, 6, 5, 5), (7, 6, 5, 7)]\n",
      "Enter your move in the format 'r1,c1,r2,c2':\n",
      "-----------------------------\n",
      "r | n | b | q | k | b | n | r\n",
      "p | p | p | p | p | p | p | .\n",
      ". | . | . | . | . | . | . | .\n",
      ". | . | . | . | . | . | . | p\n",
      ". | . | . | . | . | . | . | .\n",
      "P | . | . | . | . | P | . | .\n",
      ". | P | P | P | P | . | P | P\n",
      "R | N | B | Q | K | B | N | R\n",
      "-----------------------------\n",
      "b's turn\n",
      "AI MOVE  (3, 7, 4, 7)\n",
      "-----------------------------\n",
      "r | n | b | q | k | b | n | r\n",
      "p | p | p | p | p | p | p | .\n",
      ". | . | . | . | . | . | . | .\n",
      ". | . | . | . | . | . | . | .\n",
      ". | . | . | . | . | . | . | p\n",
      "P | . | . | . | . | P | . | .\n",
      ". | P | P | P | P | . | P | P\n",
      "R | N | B | Q | K | B | N | R\n",
      "-----------------------------\n",
      "W's turn\n",
      "ALL POSSIBLE MOVES FOR YOU ARE : \n",
      "[(5, 0, 4, 0), (5, 5, 4, 5), (6, 1, 5, 1), (6, 1, 4, 1), (6, 1, 5, 0), (6, 2, 5, 2), (6, 2, 4, 2), (6, 3, 5, 3), (6, 3, 4, 3), (6, 4, 5, 4), (6, 4, 4, 4), (6, 4, 5, 5), (6, 6, 5, 6), (6, 6, 4, 6), (6, 6, 5, 5), (6, 7, 5, 7), (7, 0, 6, 0), (7, 1, 5, 2), (7, 4, 6, 3), (7, 4, 6, 4), (7, 4, 6, 5), (7, 4, 7, 3), (7, 4, 7, 5), (7, 6, 5, 7)]\n",
      "Enter your move in the format 'r1,c1,r2,c2':\n",
      "-----------------------------\n",
      "r | n | b | q | k | b | n | r\n",
      "p | p | p | p | p | p | p | .\n",
      ". | . | . | . | . | . | . | .\n",
      ". | . | . | . | . | . | . | .\n",
      ". | . | . | . | . | . | P | p\n",
      "P | . | . | . | . | P | . | .\n",
      ". | P | P | P | P | . | . | P\n",
      "R | N | B | Q | K | B | N | R\n",
      "-----------------------------\n",
      "b's turn\n",
      "AI MOVE  (4, 7, 5, 7)\n",
      "-----------------------------\n",
      "r | n | b | q | k | b | n | r\n",
      "p | p | p | p | p | p | p | .\n",
      ". | . | . | . | . | . | . | .\n",
      ". | . | . | . | . | . | . | .\n",
      ". | . | . | . | . | . | P | .\n",
      "P | . | . | . | . | P | . | p\n",
      ". | P | P | P | P | . | . | P\n",
      "R | N | B | Q | K | B | N | R\n",
      "-----------------------------\n",
      "W's turn\n",
      "ALL POSSIBLE MOVES FOR YOU ARE : \n",
      "[(4, 6, 3, 6), (5, 0, 4, 0), (5, 5, 4, 5), (5, 5, 4, 6), (6, 1, 5, 1), (6, 1, 4, 1), (6, 1, 5, 0), (6, 2, 5, 2), (6, 2, 4, 2), (6, 3, 5, 3), (6, 3, 4, 3), (6, 4, 5, 4), (6, 4, 4, 4), (6, 4, 5, 5), (7, 0, 6, 0), (7, 1, 5, 2), (7, 4, 6, 3), (7, 4, 6, 4), (7, 4, 6, 5), (7, 4, 7, 3), (7, 4, 7, 5), (7, 5, 6, 6), (7, 5, 5, 7), (7, 6, 5, 7)]\n",
      "Enter your move in the format 'r1,c1,r2,c2':\n",
      "-----------------------------\n",
      "r | n | b | q | k | b | n | r\n",
      "p | p | p | p | p | p | p | .\n",
      ". | . | . | . | . | . | . | .\n",
      ". | . | . | . | . | . | P | .\n",
      ". | . | . | . | . | . | . | .\n",
      "P | . | . | . | . | P | . | p\n",
      ". | P | P | P | P | . | . | P\n",
      "R | N | B | Q | K | B | N | R\n",
      "-----------------------------\n",
      "b's turn\n",
      "AI MOVE  (1, 6, 2, 6)\n",
      "-----------------------------\n",
      "r | n | b | q | k | b | n | r\n",
      "p | p | p | p | p | p | . | .\n",
      ". | . | . | . | . | . | p | .\n",
      ". | . | . | . | . | . | P | .\n",
      ". | . | . | . | . | . | . | .\n",
      "P | . | . | . | . | P | . | p\n",
      ". | P | P | P | P | . | . | P\n",
      "R | N | B | Q | K | B | N | R\n",
      "-----------------------------\n",
      "W's turn\n",
      "ALL POSSIBLE MOVES FOR YOU ARE : \n",
      "[(5, 0, 4, 0), (5, 5, 4, 5), (6, 1, 5, 1), (6, 1, 4, 1), (6, 1, 5, 0), (6, 2, 5, 2), (6, 2, 4, 2), (6, 3, 5, 3), (6, 3, 4, 3), (6, 4, 5, 4), (6, 4, 4, 4), (6, 4, 5, 5), (7, 0, 6, 0), (7, 1, 5, 2), (7, 4, 6, 3), (7, 4, 6, 4), (7, 4, 6, 5), (7, 4, 7, 3), (7, 4, 7, 5), (7, 5, 6, 6), (7, 5, 5, 7), (7, 6, 5, 7)]\n",
      "Enter your move in the format 'r1,c1,r2,c2':\n"
     ]
    },
    {
     "ename": "ValueError",
     "evalue": "invalid literal for int() with base 10: ''",
     "output_type": "error",
     "traceback": [
      "\u001b[1;31m---------------------------------------------------------------------------\u001b[0m",
      "\u001b[1;31mValueError\u001b[0m                                Traceback (most recent call last)",
      "Cell \u001b[1;32mIn[152], line 1\u001b[0m\n\u001b[1;32m----> 1\u001b[0m play_game()\n",
      "Cell \u001b[1;32mIn[151], line 18\u001b[0m, in \u001b[0;36mplay_game\u001b[1;34m()\u001b[0m\n\u001b[0;32m     16\u001b[0m \u001b[39mprint\u001b[39m(\u001b[39mf\u001b[39m\u001b[39m\"\u001b[39m\u001b[39mEnter your move in the format \u001b[39m\u001b[39m'\u001b[39m\u001b[39mr1,c1,r2,c2\u001b[39m\u001b[39m'\u001b[39m\u001b[39m:\u001b[39m\u001b[39m\"\u001b[39m)\n\u001b[0;32m     17\u001b[0m user_move \u001b[39m=\u001b[39m \u001b[39minput\u001b[39m()\n\u001b[1;32m---> 18\u001b[0m r1, c1, r2, c2 \u001b[39m=\u001b[39m \u001b[39mmap\u001b[39m(\u001b[39mint\u001b[39m, user_move\u001b[39m.\u001b[39msplit(\u001b[39m'\u001b[39m\u001b[39m,\u001b[39m\u001b[39m'\u001b[39m))\n\u001b[0;32m     20\u001b[0m \u001b[39m#input validation\u001b[39;00m\n\u001b[0;32m     21\u001b[0m \u001b[39mif\u001b[39;00m (r1, c1, r2, c2) \u001b[39mnot\u001b[39;00m \u001b[39min\u001b[39;00m moves:\n",
      "\u001b[1;31mValueError\u001b[0m: invalid literal for int() with base 10: ''"
     ]
    }
   ],
   "source": [
    "play_game()"
   ]
  }
 ],
 "metadata": {
  "kernelspec": {
   "display_name": "pm3bap",
   "language": "python",
   "name": "python3"
  },
  "language_info": {
   "codemirror_mode": {
    "name": "ipython",
    "version": 3
   },
   "file_extension": ".py",
   "mimetype": "text/x-python",
   "name": "python",
   "nbconvert_exporter": "python",
   "pygments_lexer": "ipython3",
   "version": "3.9.16"
  },
  "orig_nbformat": 4,
  "vscode": {
   "interpreter": {
    "hash": "ca2c822d7d24db5bb073fff7a221757b665dc7757cf4a05d6f836d8333067d2f"
   }
  }
 },
 "nbformat": 4,
 "nbformat_minor": 2
}
